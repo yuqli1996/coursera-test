{
 "cells": [
  {
   "cell_type": "markdown",
   "metadata": {},
   "source": [
    "# The Project #\n",
    "1. This is a project with minimal scaffolding. Expect to use the the discussion forums to gain insights! It’s not cheating to ask others for opinions or perspectives!\n",
    "2. Be inquisitive, try out new things.\n",
    "3. Use the previous modules for insights into how to complete the functions! You'll have to combine Pillow, OpenCV, and Pytesseract\n",
    "4. There are hints provided in Coursera, feel free to explore the hints if needed. Each hint provide progressively more details on how to solve the issue. This project is intended to be comprehensive and difficult if you do it without the hints.\n",
    "\n",
    "### The Assignment ###\n",
    "Take a [ZIP file](https://en.wikipedia.org/wiki/Zip_(file_format)) of images and process them, using a [library built into python](https://docs.python.org/3/library/zipfile.html) that you need to learn how to use. A ZIP file takes several different files and compresses them, thus saving space, into one single file. The files in the ZIP file we provide are newspaper images (like you saw in week 3). Your task is to write python code which allows one to search through the images looking for the occurrences of keywords and faces. E.g. if you search for \"pizza\" it will return a contact sheet of all of the faces which were located on the newspaper page which mentions \"pizza\". This will test your ability to learn a new ([library](https://docs.python.org/3/library/zipfile.html)), your ability to use OpenCV to detect faces, your ability to use tesseract to do optical character recognition, and your ability to use PIL to composite images together into contact sheets.\n",
    "\n",
    "Each page of the newspapers is saved as a single PNG image in a file called [images.zip](./readonly/images.zip). These newspapers are in english, and contain a variety of stories, advertisements and images. Note: This file is fairly large (~200 MB) and may take some time to work with, I would encourage you to use [small_img.zip](./readonly/small_img.zip) for testing.\n",
    "\n",
    "Here's an example of the output expected. Using the [small_img.zip](./readonly/small_img.zip) file, if I search for the string \"Christopher\" I should see the following image:\n",
    "![Christopher Search](./readonly/small_project.png)\n",
    "If I were to use the [images.zip](./readonly/images.zip) file and search for \"Mark\" I should see the following image (note that there are times when there are no faces on a page, but a word is found!):\n",
    "![Mark Search](./readonly/large_project.png)\n",
    "\n",
    "Note: That big file can take some time to process - for me it took nearly ten minutes! Use the small one for testing."
   ]
  },
  {
   "cell_type": "code",
   "execution_count": 10,
   "metadata": {},
   "outputs": [],
   "source": [
    "import zipfile\n",
    "import PIL\n",
    "\n",
    "from PIL import Image\n",
    "import pytesseract\n",
    "import cv2 as cv\n",
    "import numpy as np\n",
    "\n",
    "import pytesseract\n",
    "from PIL import ImageDraw\n",
    "from IPython.display import display"
   ]
  },
  {
   "cell_type": "code",
   "execution_count": 11,
   "metadata": {},
   "outputs": [],
   "source": [
    "face_cascade = cv.CascadeClassifier('readonly/haarcascade_frontalface_default.xml')"
   ]
  },
  {
   "cell_type": "code",
   "execution_count": 12,
   "metadata": {},
   "outputs": [],
   "source": [
    "def myOCR(img):\n",
    "#    print(img)\n",
    "    img = Image.open(img)\n",
    "    img = img.convert('L')\n",
    "    text = pytesseract.image_to_string(img)\n",
    "    return text"
   ]
  },
  {
   "cell_type": "code",
   "execution_count": 13,
   "metadata": {},
   "outputs": [],
   "source": [
    "def display_contact_sheet(images, num_of_images):\n",
    "    if num_of_images % 5 == 0:\n",
    "        num_height = int(num_of_images / 5)\n",
    "    else:\n",
    "        num_height = int(num_of_images / 5) + 1\n",
    "    contact_sheet = PIL.Image.new('RGB', (104 * 5, 96 * num_height))\n",
    "\n",
    "    x = 0\n",
    "    y = 0\n",
    "    size = 105, 96\n",
    "\n",
    "    for img in images:\n",
    "        img.thumbnail(size)\n",
    "        contact_sheet.paste(img, (x, y))\n",
    "\n",
    "        if x + 104 == 520:\n",
    "            x = 0\n",
    "            y = y + 96\n",
    "        else:\n",
    "            x = x + 104\n",
    "    display(contact_sheet)"
   ]
  },
  {
   "cell_type": "code",
   "execution_count": 14,
   "metadata": {},
   "outputs": [],
   "source": [
    "def show_rects(PiLimg):\n",
    "    pil_img = Image.open(PiLimg).convert(\"RGB\")\n",
    "\n",
    "    # Set our drawing context\n",
    "    drawing = ImageDraw.Draw(pil_img)\n",
    "    # And plot all of the rectangles in faces\n",
    "    bboxes = []\n",
    "\n",
    "    cv_img = cv.imread(PiLimg)\n",
    "    gray = cv.cvtColor(cv_img, cv.COLOR_BGR2GRAY)\n",
    "    faces = face_cascade.detectMultiScale(gray, 1.3, 5)\n",
    "\n",
    "    cropped_images=[]\n",
    "    for x, y, w, h in faces:\n",
    "        drawing.rectangle((x, y, int(x + 1.1 * w), int(y + 1.1 * h)), outline=\"white\")\n",
    "        bboxes.append([x, y, int(1.1 * w), int(1.1 * h)])\n",
    "        crop_img = pil_img.crop((x, y, int(x + 1.1 * w), int(y + 1.1 * h)))\n",
    "\n",
    "        cropped_images.append(crop_img)\n",
    "    if len(cropped_images) !=0:\n",
    "        return bboxes, cropped_images\n",
    "    else:\n",
    "        return bboxes, None"
   ]
  },
  {
   "cell_type": "code",
   "execution_count": 15,
   "metadata": {},
   "outputs": [],
   "source": [
    "def search_txt(txt, myDBlst):\n",
    "    foundFiles = [aDict.keys() for aDict in myDBlst for values in aDict.values() if txt in values[\"texts\"]]\n",
    "    return foundFiles\n",
    "\n",
    "\n",
    "def search_file_idx(file, myDBlst):\n",
    "    idx = 0\n",
    "    for ele in myDBlst:\n",
    "        if str(*ele.keys()) == file:\n",
    "            return idx\n",
    "        idx += 1"
   ]
  },
  {
   "cell_type": "code",
   "execution_count": 16,
   "metadata": {},
   "outputs": [],
   "source": [
    "with zipfile.ZipFile('readonly/images.zip') as myzip:\n",
    "    images = []\n",
    "    filelst = []\n",
    "    for i in range(len(myzip.infolist())):\n",
    "        myzip.extract(myzip.infolist()[i].filename)\n",
    "        image = Image.open(myzip.infolist()[i].filename)\n",
    "        images.append(image)\n",
    "        filelst.append(myzip.infolist()[i].filename)"
   ]
  },
  {
   "cell_type": "code",
   "execution_count": null,
   "metadata": {},
   "outputs": [],
   "source": [
    "myDBlst = []\n",
    "myDict = {}\n",
    "\n",
    "search_found_images=[]\n",
    "\n",
    "for i in range(len(images)):\n",
    "    myDict[filelst[i]] = {}\n",
    "    myDict[filelst[i]]['BBox'],search_found_image = show_rects(filelst[i])\n",
    "    myDict[filelst[i]]['texts'] = myOCR(filelst[i])\n",
    "    myDBlst.append({filelst[i]: myDict[filelst[i]]})\n",
    "    search_found_images.append(search_found_image)"
   ]
  },
  {
   "cell_type": "code",
   "execution_count": null,
   "metadata": {},
   "outputs": [],
   "source": [
    "found =search_txt(\"Mark\",myDBlst)\n",
    "\n",
    "search_found_image_dictionary= dict(zip(filelst,search_found_images))\n",
    "\n",
    "for ele in found:\n",
    "    #    print(ele)\n",
    "    print(\"Results found in {}\".format(*ele))\n",
    "    aa = str(*ele)\n",
    "    idx = search_file_idx(aa, myDBlst)\n",
    "    if not search_found_image_dictionary[aa]:\n",
    "        print(\"But there were no faces in that file!\")\n",
    "    else:\n",
    "        display_contact_sheet(search_found_image_dictionary[aa], len(search_found_image_dictionary[aa]))"
   ]
  },
  {
   "cell_type": "code",
   "execution_count": null,
   "metadata": {},
   "outputs": [],
   "source": []
  }
 ],
 "metadata": {
  "anaconda-cloud": {},
  "kernelspec": {
   "display_name": "Python 3",
   "language": "python",
   "name": "python3"
  },
  "language_info": {
   "codemirror_mode": {
    "name": "ipython",
    "version": 3
   },
   "file_extension": ".py",
   "mimetype": "text/x-python",
   "name": "python",
   "nbconvert_exporter": "python",
   "pygments_lexer": "ipython3",
   "version": "3.7.1"
  }
 },
 "nbformat": 4,
 "nbformat_minor": 2
}
